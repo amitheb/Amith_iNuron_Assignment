{
  "nbformat": 4,
  "nbformat_minor": 0,
  "metadata": {
    "colab": {
      "provenance": []
    },
    "kernelspec": {
      "name": "python3",
      "display_name": "Python 3"
    },
    "language_info": {
      "name": "python"
    }
  },
  "cells": [
    {
      "cell_type": "code",
      "source": [
        "#1.What are the two values of the Boolean data type? How do you write them?\n",
        "'True' and 'False' are the two types of Boolean data type."
      ],
      "metadata": {
        "id": "9ArJVh6LOl9Y"
      },
      "execution_count": null,
      "outputs": []
    },
    {
      "cell_type": "code",
      "source": [
        "#2. What are the three different types of Boolean operators?\n",
        "AND, OR , NOT"
      ],
      "metadata": {
        "id": "egUKU1qvovoV"
      },
      "execution_count": null,
      "outputs": []
    },
    {
      "cell_type": "code",
      "source": [
        "#3. Make a list of each Boolean operator's truth tables (i.e. every possible combination of Boolean values for the operator and what it evaluate ).\n",
        "\n",
        "           AND    OR     NOT\n",
        "\n",
        "0    0      0      0    0 = 1\n",
        "\n",
        "0    1      0      1    1 = 0\n",
        "\n",
        "1    0      0      1\n",
        "\n",
        "1    1      1      1"
      ],
      "metadata": {
        "id": "tL1e37QAqlWh"
      },
      "execution_count": null,
      "outputs": []
    },
    {
      "cell_type": "code",
      "source": [
        "#4. What are the values of the following expressions?\n",
        "(5 > 4) and (3 == 5) - Output False\n",
        "not (5 > 4)  - Output False\n",
        "(5 > 4) or (3 == 5) - Output True\n",
        "not ((5 > 4) or (3 == 5))-  Output False\n",
        "(True and True) and (True == False) - Output False\n",
        "(not False) or (not True) - Output True"
      ],
      "metadata": {
        "id": "0c9k4iQPq58O"
      },
      "execution_count": null,
      "outputs": []
    },
    {
      "cell_type": "code",
      "source": [
        "#5) What are the six comparison operators?\n",
        "Less than - <\n",
        "Greater than - >\n",
        "Equal to - ==\n",
        "Less than or Equal to - <=\n",
        "Greater than Equal to - >=\n",
        "Not equal to - !="
      ],
      "metadata": {
        "id": "Q1Gd9Upfv-Bn"
      },
      "execution_count": null,
      "outputs": []
    },
    {
      "cell_type": "code",
      "source": [
        "#6) How do you tell the difference between the equal to and assignment operators?\n",
        "Describe a condition and when you would use one.\n",
        "\n",
        "Assignment operators is just to assighn values for an variable. Not to check any equality of two things.\n",
        "Example - a = [1,2,3,4], b = (1,2,3,4,\"Amit\")\n",
        "\n",
        "'Equal to == ' is to check the equality of two things and check the output. The out put will be be usually in the\n",
        "form of boolians\n",
        "\n",
        "Example - (2 == 2) or (5 == (7-2))\n"
      ],
      "metadata": {
        "id": "KTWy9Hx8xXs2"
      },
      "execution_count": null,
      "outputs": []
    },
    {
      "cell_type": "code",
      "source": [
        "#7. Identify the three blocks in this code\n",
        "\n",
        "spam = 0\n",
        "if spam == 10:\n",
        "   print('eggs')\n",
        "   if spam > 5:\n",
        "    print('bacon')\n",
        "else:\n",
        "  print('ham')\n",
        "  print('spam')\n",
        "  print('spam')\n",
        "\n",
        "Two major blokes are if and else. But one nested if is avilable inside if."
      ],
      "metadata": {
        "id": "JIfVwC9c1kEk"
      },
      "execution_count": null,
      "outputs": []
    },
    {
      "cell_type": "code",
      "source": [
        "# 8 Write code that prints Hello if 1 is stored in spam, prints Howdy if 2 is stored in spam, and prints Greetings! if anything else is stored in spam.\n",
        "\n",
        "spam = input(\"Enter an input: \")\n",
        "\n",
        "if spam == 1:\n",
        "  print('Hello')\n",
        "elif spam == 2:\n",
        "  print(\"Howdy\")\n",
        "else:\n",
        "  print(\"Greetings!\")\n"
      ],
      "metadata": {
        "colab": {
          "base_uri": "https://localhost:8080/"
        },
        "id": "ht0-Eodo3Wnk",
        "outputId": "12c71f27-7bff-46da-aa06-fe278362644a"
      },
      "execution_count": null,
      "outputs": [
        {
          "output_type": "stream",
          "name": "stdout",
          "text": [
            "Enter an input: Amit\n",
            "Greetings!\n"
          ]
        }
      ]
    },
    {
      "cell_type": "code",
      "source": [
        "# 9.If your programme is stuck in an endless loop, what keys you’ll press?\n",
        "Just need to inturupt runtime and stop running it. Or use pass to avoid the such kind of situation."
      ],
      "metadata": {
        "id": "2qd77ScD598X"
      },
      "execution_count": null,
      "outputs": []
    },
    {
      "cell_type": "code",
      "source": [
        " #10. How can you tell the difference between break and continue?\n",
        "\n",
        "Continue skips the current iteration of the loops and jumps to next iteration.\n",
        "Break terminates the whole loop and jumps out of the loop."
      ],
      "metadata": {
        "id": "ediBAmlv-TXZ"
      },
      "execution_count": null,
      "outputs": []
    },
    {
      "cell_type": "code",
      "source": [
        "# 11. In a for loop, what is the difference between range(10), range(0, 10), and range(0, 10, 1)?\n",
        "\n",
        "If i apply the above in for loop there is no any change in the output. But one has no lower limit, one has upper and lower limit\n",
        "and the last one has upper ans lower limit with step size."
      ],
      "metadata": {
        "id": "iZxOEHE8B9_r"
      },
      "execution_count": null,
      "outputs": []
    },
    {
      "cell_type": "code",
      "source": [
        "# 12. Write a short program that prints the numbers 1 to 10 using a for loop.\n",
        "# Then write an equivalent program that prints the numbers 1 to 10 using a while loop.\n",
        "\n",
        "#Using for loop\n",
        "for i in range(1,10):\n",
        "  print(i)"
      ],
      "metadata": {
        "colab": {
          "base_uri": "https://localhost:8080/"
        },
        "id": "dC2PZw9xCMVH",
        "outputId": "1673bb22-569f-450a-e352-d09b561fc3d0"
      },
      "execution_count": null,
      "outputs": [
        {
          "output_type": "stream",
          "name": "stdout",
          "text": [
            "1\n",
            "2\n",
            "3\n",
            "4\n",
            "5\n",
            "6\n",
            "7\n",
            "8\n",
            "9\n"
          ]
        }
      ]
    },
    {
      "cell_type": "code",
      "source": [
        "#Using while loop\n",
        "i = 0\n",
        "while i < 10:\n",
        "  print(i)\n",
        "  i = i+1"
      ],
      "metadata": {
        "colab": {
          "base_uri": "https://localhost:8080/"
        },
        "id": "owcc56tpFwjh",
        "outputId": "eecb4d69-7194-4dac-ec18-b6ea2f39b889"
      },
      "execution_count": null,
      "outputs": [
        {
          "output_type": "stream",
          "name": "stdout",
          "text": [
            "0\n",
            "1\n",
            "2\n",
            "3\n",
            "4\n",
            "5\n",
            "6\n",
            "7\n",
            "8\n",
            "9\n"
          ]
        }
      ]
    },
    {
      "cell_type": "code",
      "source": [
        "# 13. If you had a function named bacon() inside a module named spam, how would you call it after importing spam?\n",
        "\n",
        "import spam\n",
        "spam.bacon()"
      ],
      "metadata": {
        "id": "ixkx_1m9IcVs"
      },
      "execution_count": null,
      "outputs": []
    }
  ]
}