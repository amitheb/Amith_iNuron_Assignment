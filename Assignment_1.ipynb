{
  "nbformat": 4,
  "nbformat_minor": 0,
  "metadata": {
    "colab": {
      "provenance": []
    },
    "kernelspec": {
      "name": "python3",
      "display_name": "Python 3"
    },
    "language_info": {
      "name": "python"
    }
  },
  "cells": [
    {
      "cell_type": "markdown",
      "source": [
        "Q1) In the below elements which of them are values or an expression? eg:- values can be integer or string and expressions will be mathematical operators.\n",
        "* 'hello' -87.8 - / + 6\n",
        "\n",
        "'hello' - String Expression\n",
        "\n",
        "-87.8  - Float Expression\n",
        "\n",
        "6 - Integer Expression\n",
        "\n",
        "[*,/,+,-] - Mathematical Operators\n",
        "\n"
      ],
      "metadata": {
        "id": "OXhFvcDAxUi4"
      }
    },
    {
      "cell_type": "markdown",
      "source": [
        "2) What is the difference between string and variable?\n",
        "\n",
        "\"Strings\" are one of the data types in python which are enclosed in single or double quotes or even triple quote if multiple line.\n",
        "\n",
        "\"Variables\" are used to assign or store the values based on our requirements. We can store the different data types or values."
      ],
      "metadata": {
        "id": "L5uMcIOzyKLI"
      }
    },
    {
      "cell_type": "markdown",
      "source": [
        "3) Describe three different data types.\n",
        "\n",
        "Integer - It is a data type where the data can only be a whole number. Ex - 2,3,4,56 etc.\n",
        "\n",
        "Strings - It is a data type that are enclosed in single, double or triple quotes. Any values like text , numbers can be stored. Ex - 'Name', \"Number\",\"23\",'''INueron is Good Platform to learn Practical Things'''\n",
        "\n",
        "Tuple - Anything that is enclosed in the common brackets are called strings. Ex - (1,2,3,\"Name\", [1,2,3,4])"
      ],
      "metadata": {
        "id": "c6vYw_-HzqtN"
      }
    },
    {
      "cell_type": "markdown",
      "source": [
        "4) What is an expression made up of? What do all expressions do?\n",
        "\n",
        "An expression is made of of different combination of operators, values, operators and gives result of it.\n",
        "\n",
        "Expression performs a task and gives result.\n",
        "If a variable is filled with multiple operations to be dole like addition, concatination etc then it is called expression\n",
        "\n",
        "\n"
      ],
      "metadata": {
        "id": "ZqM8CINE1YPv"
      }
    },
    {
      "cell_type": "markdown",
      "source": [
        "5)This assignment statements, like spam = 10. What is the difference between an expression and a statement?\n",
        "\n",
        "In the above case spam is a variable assigned to an integer 10. The result of this will not change if it is called aggain.\n",
        "\n",
        "But in case of expression if i assign any operator or function the variable will give the result when called.\n",
        "\n"
      ],
      "metadata": {
        "id": "SVvoT-8P5pKd"
      }
    },
    {
      "cell_type": "markdown",
      "source": [
        "6) After running the following code, what does the variable bacon contain? bacon = 22 bacon + 1\n",
        "\n",
        "The variable bacon contains nothig because the expression holding that variable is not valid expression. It has inproper concatination and different data type which is not possible to perform any operations."
      ],
      "metadata": {
        "id": "0oqLMmlK673O"
      }
    },
    {
      "cell_type": "markdown",
      "source": [
        "7) What should the values of the following two terms be? 'spam' + 'spamspam' 'spam' * 3\n",
        "\n",
        "Ans - spamspamspamspamspamspamspamspamspamspam\n"
      ],
      "metadata": {
        "id": "M48VFue16_7K"
      }
    },
    {
      "cell_type": "markdown",
      "source": [
        "8) Why is eggs a valid variable name while 100 is invalid?\n",
        "\n",
        "Because variable name eggs is a string and 100 without quote is an integer. There fore data type 100 is an integer."
      ],
      "metadata": {
        "id": "DjRKu9Rm7wj0"
      }
    },
    {
      "cell_type": "markdown",
      "source": [
        "9) What three functions can be used to get the integer, floating-point number, or string version of a value?\n",
        "\n",
        "Integer = int(10)\n",
        "\n",
        "Floating - point = float(10)\n",
        "\n",
        "String version = str(10)"
      ],
      "metadata": {
        "id": "83TxHvYo8Vba"
      }
    },
    {
      "cell_type": "markdown",
      "source": [
        "10) Why does this expression cause an error? How can you fix it? 'I have eaten ' + 99 + ' burritos.'\n",
        "\n",
        "It will throw error because of inproper concatination where integer comes between the strings.\n",
        "\n",
        "Correct one will be  'I have eaten ' + '99' + ' burritos.'"
      ],
      "metadata": {
        "id": "AY8zuJ7PAztJ"
      }
    }
  ]
}